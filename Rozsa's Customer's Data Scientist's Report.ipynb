{
 "cells": [
  {
   "cell_type": "markdown",
   "metadata": {},
   "source": [
    "# Project: Rozsa's Customer's Data Analytics\n",
    "## Author - Team 4\n",
    "## Version - v1.1\n",
    "## Platform - macOS 11.13.1 & Linux Ubuntu 17.04 LTS\n",
    "## SDK - Python 3.6 with anaconda distribution (Some open source libraries)"
   ]
  },
  {
   "cell_type": "markdown",
   "metadata": {},
   "source": [
    "### Hello! \n",
    "### In this analytical report We are presenting the scenario of data analytics on historical data of Rozsa perfromance.\n",
    "### The Dataset was provided by ticketing manager based upon historical data availability. \n",
    "### The dataset is restrcited to use by Michigan Tech trusted persons. It contains private information so publication usage should strictly be avoided. Don't circulate this report to anyone."
   ]
  },
  {
   "cell_type": "markdown",
   "metadata": {},
   "source": [
    "## Data Science Project\n",
    "### - Defination : Analyse Historical Ticketing data for Rozsa center. \n",
    "### - Objective : Give recommendation to the Rozsa based on facts & figures by using appropriate and valid data analytics & visualisations.\n",
    "### - Deliverables : Working Predictive model for making accurate predictions."
   ]
  },
  {
   "cell_type": "markdown",
   "metadata": {},
   "source": [
    "### Library Imports & Declarations"
   ]
  },
  {
   "cell_type": "code",
   "execution_count": 1,
   "metadata": {
    "collapsed": true
   },
   "outputs": [],
   "source": [
    "#let's do some important task to ignore warning.\n",
    "import pandas as pd #for loading data into dataframe\n",
    "import seaborn as sns\n",
    "sns.set(color_codes=True)\n",
    "import plotly \n",
    "plotly.tools.set_credentials_file(username='dnisarg13', api_key='uuOflFYpaluNAifTb8rk')\n",
    "import pandas as pd\n",
    "import plotly.graph_objs as go\n",
    "import plotly.plotly as py\n",
    "from plotly.graph_objs import *\n",
    "import numpy as np\n",
    "import matplotlib.pyplot as plt\n",
    "%matplotlib inline\n",
    "import warnings\n",
    "warnings.filterwarnings('ignore')"
   ]
  },
  {
   "cell_type": "markdown",
   "metadata": {},
   "source": [
    "## 1. Data Wrangling - Collecting & organizing the data"
   ]
  },
  {
   "cell_type": "markdown",
   "metadata": {},
   "source": [
    "## Grabbing Data From the Excel Sheet"
   ]
  },
  {
   "cell_type": "code",
   "execution_count": 2,
   "metadata": {
    "collapsed": true
   },
   "outputs": [],
   "source": [
    "rozsa_customer_data = pd.read_csv('Rozsa Customer data.csv')"
   ]
  },
  {
   "cell_type": "markdown",
   "metadata": {},
   "source": [
    "### Examinign Data Rows and Columns "
   ]
  },
  {
   "cell_type": "code",
   "execution_count": 3,
   "metadata": {},
   "outputs": [
    {
     "name": "stdout",
     "output_type": "stream",
     "text": [
      "The number of Rows and Columns in the Dataset is displayed below\n",
      "Total Number of rows in Rozsa Customer data of September 2015: 20719\n",
      "Total Number of columns in Rozsa Customer data of September 2015:  7\n"
     ]
    }
   ],
   "source": [
    "print(\"The number of Rows and Columns in the Dataset is displayed below\")\n",
    "#showing number of Rows\n",
    "print(\"Total Number of rows in Rozsa Customer data of September 2015:\", rozsa_customer_data.shape[0])\n",
    "#showing number of columns\n",
    "print (\"Total Number of columns in Rozsa Customer data of September 2015: \", rozsa_customer_data.shape[1])"
   ]
  },
  {
   "cell_type": "markdown",
   "metadata": {},
   "source": [
    "### Let's look at number of features or columns of dataset"
   ]
  },
  {
   "cell_type": "code",
   "execution_count": 4,
   "metadata": {},
   "outputs": [
    {
     "name": "stdout",
     "output_type": "stream",
     "text": [
      "Index(['Cust. #', 'Street', 'City', 'Zip', 'Perf. Description', 'Email',\n",
      "       '# of Tix Purchased'],\n",
      "      dtype='object')\n"
     ]
    }
   ],
   "source": [
    "#displaying columns and rows to understand the attributes.\n",
    "print(rozsa_customer_data.columns)"
   ]
  },
  {
   "cell_type": "markdown",
   "metadata": {},
   "source": [
    "### As we can see here the most important features are,\n",
    "### - Customer number\n",
    "### - City\n",
    "### - Performance description\n",
    "### - number of tickets purchased\n",
    "### So Let's keep those features only\n",
    "## The sensitive information fields are email ID & Street so let's remove them from our data for preserving customers privacy, Let's drop those columns"
   ]
  },
  {
   "cell_type": "code",
   "execution_count": 5,
   "metadata": {
    "collapsed": true
   },
   "outputs": [],
   "source": [
    "rozsa_customer_data.drop(rozsa_customer_data.columns[[1, 3, 5]], axis=1,inplace=True) "
   ]
  },
  {
   "cell_type": "markdown",
   "metadata": {},
   "source": [
    "### Data Understanding\n",
    "### 1. Looking the top n rows (from head)"
   ]
  },
  {
   "cell_type": "code",
   "execution_count": 6,
   "metadata": {},
   "outputs": [
    {
     "data": {
      "text/html": [
       "<div>\n",
       "<style>\n",
       "    .dataframe thead tr:only-child th {\n",
       "        text-align: right;\n",
       "    }\n",
       "\n",
       "    .dataframe thead th {\n",
       "        text-align: left;\n",
       "    }\n",
       "\n",
       "    .dataframe tbody tr th {\n",
       "        vertical-align: top;\n",
       "    }\n",
       "</style>\n",
       "<table border=\"1\" class=\"dataframe\">\n",
       "  <thead>\n",
       "    <tr style=\"text-align: right;\">\n",
       "      <th></th>\n",
       "      <th>Cust. #</th>\n",
       "      <th>City</th>\n",
       "      <th>Perf. Description</th>\n",
       "      <th># of Tix Purchased</th>\n",
       "    </tr>\n",
       "  </thead>\n",
       "  <tbody>\n",
       "    <tr>\n",
       "      <th>0</th>\n",
       "      <td>597</td>\n",
       "      <td>Chassell</td>\n",
       "      <td>1863-2013: Lincoln and Gettysburg</td>\n",
       "      <td>2</td>\n",
       "    </tr>\n",
       "    <tr>\n",
       "      <th>1</th>\n",
       "      <td>1569</td>\n",
       "      <td>Houghton</td>\n",
       "      <td>1863-2013: Lincoln and Gettysburg</td>\n",
       "      <td>2</td>\n",
       "    </tr>\n",
       "    <tr>\n",
       "      <th>2</th>\n",
       "      <td>1576</td>\n",
       "      <td>Hancock</td>\n",
       "      <td>1863-2013: Lincoln and Gettysburg</td>\n",
       "      <td>3</td>\n",
       "    </tr>\n",
       "    <tr>\n",
       "      <th>3</th>\n",
       "      <td>1679</td>\n",
       "      <td>Houghton</td>\n",
       "      <td>1863-2013: Lincoln and Gettysburg</td>\n",
       "      <td>2</td>\n",
       "    </tr>\n",
       "    <tr>\n",
       "      <th>4</th>\n",
       "      <td>1729</td>\n",
       "      <td>Hancock</td>\n",
       "      <td>1863-2013: Lincoln and Gettysburg</td>\n",
       "      <td>2</td>\n",
       "    </tr>\n",
       "  </tbody>\n",
       "</table>\n",
       "</div>"
      ],
      "text/plain": [
       "   Cust. #      City                  Perf. Description  # of Tix Purchased\n",
       "0      597  Chassell  1863-2013: Lincoln and Gettysburg                   2\n",
       "1     1569  Houghton  1863-2013: Lincoln and Gettysburg                   2\n",
       "2     1576   Hancock  1863-2013: Lincoln and Gettysburg                   3\n",
       "3     1679  Houghton  1863-2013: Lincoln and Gettysburg                   2\n",
       "4     1729   Hancock  1863-2013: Lincoln and Gettysburg                   2"
      ]
     },
     "execution_count": 6,
     "metadata": {},
     "output_type": "execute_result"
    }
   ],
   "source": [
    "def top_head(n):\n",
    "    return rozsa_customer_data.head(n)\n",
    "top_head(5)"
   ]
  },
  {
   "cell_type": "markdown",
   "metadata": {},
   "source": [
    "### 1. Looking the bottom n rows (from tail)"
   ]
  },
  {
   "cell_type": "code",
   "execution_count": 7,
   "metadata": {},
   "outputs": [
    {
     "data": {
      "text/html": [
       "<div>\n",
       "<style>\n",
       "    .dataframe thead tr:only-child th {\n",
       "        text-align: right;\n",
       "    }\n",
       "\n",
       "    .dataframe thead th {\n",
       "        text-align: left;\n",
       "    }\n",
       "\n",
       "    .dataframe tbody tr th {\n",
       "        vertical-align: top;\n",
       "    }\n",
       "</style>\n",
       "<table border=\"1\" class=\"dataframe\">\n",
       "  <thead>\n",
       "    <tr style=\"text-align: right;\">\n",
       "      <th></th>\n",
       "      <th>Cust. #</th>\n",
       "      <th>City</th>\n",
       "      <th>Perf. Description</th>\n",
       "      <th># of Tix Purchased</th>\n",
       "    </tr>\n",
       "  </thead>\n",
       "  <tbody>\n",
       "    <tr>\n",
       "      <th>20714</th>\n",
       "      <td>60105</td>\n",
       "      <td>Traverse City</td>\n",
       "      <td>Winter Carnival Comedians - College Humor LIVE</td>\n",
       "      <td>3</td>\n",
       "    </tr>\n",
       "    <tr>\n",
       "      <th>20715</th>\n",
       "      <td>60111</td>\n",
       "      <td>Houghton</td>\n",
       "      <td>Winter Carnival Comedians - College Humor LIVE</td>\n",
       "      <td>1</td>\n",
       "    </tr>\n",
       "    <tr>\n",
       "      <th>20716</th>\n",
       "      <td>60118</td>\n",
       "      <td>Houghton</td>\n",
       "      <td>Winter Carnival Comedians - College Humor LIVE</td>\n",
       "      <td>2</td>\n",
       "    </tr>\n",
       "    <tr>\n",
       "      <th>20717</th>\n",
       "      <td>60120</td>\n",
       "      <td>Houghton</td>\n",
       "      <td>Winter Carnival Comedians - College Humor LIVE</td>\n",
       "      <td>1</td>\n",
       "    </tr>\n",
       "    <tr>\n",
       "      <th>20718</th>\n",
       "      <td>60121</td>\n",
       "      <td>Hancock</td>\n",
       "      <td>Winter Carnival Comedians - College Humor LIVE</td>\n",
       "      <td>2</td>\n",
       "    </tr>\n",
       "  </tbody>\n",
       "</table>\n",
       "</div>"
      ],
      "text/plain": [
       "       Cust. #           City                               Perf. Description  \\\n",
       "20714    60105  Traverse City  Winter Carnival Comedians - College Humor LIVE   \n",
       "20715    60111       Houghton  Winter Carnival Comedians - College Humor LIVE   \n",
       "20716    60118       Houghton  Winter Carnival Comedians - College Humor LIVE   \n",
       "20717    60120       Houghton  Winter Carnival Comedians - College Humor LIVE   \n",
       "20718    60121        Hancock  Winter Carnival Comedians - College Humor LIVE   \n",
       "\n",
       "       # of Tix Purchased  \n",
       "20714                   3  \n",
       "20715                   1  \n",
       "20716                   2  \n",
       "20717                   1  \n",
       "20718                   2  "
      ]
     },
     "execution_count": 7,
     "metadata": {},
     "output_type": "execute_result"
    }
   ],
   "source": [
    "def top_tail(n):\n",
    "    return rozsa_customer_data.tail(n)\n",
    "top_tail(5)"
   ]
  },
  {
   "cell_type": "markdown",
   "metadata": {},
   "source": [
    "## Extracting insights from Cities"
   ]
  },
  {
   "cell_type": "markdown",
   "metadata": {},
   "source": [
    "### Grouping Data by Cities! It will group the all the rows from same cities"
   ]
  },
  {
   "cell_type": "code",
   "execution_count": 8,
   "metadata": {
    "collapsed": true
   },
   "outputs": [],
   "source": [
    "City_and_ticket = rozsa_customer_data.groupby('City').sum()\n",
    "City_and_ticket.drop(City_and_ticket.columns[[0]], axis=1,inplace=True)"
   ]
  },
  {
   "cell_type": "code",
   "execution_count": 9,
   "metadata": {
    "collapsed": true
   },
   "outputs": [],
   "source": [
    "City_and_ticket_sorted = City_and_ticket.sort_values('# of Tix Purchased',ascending=False)"
   ]
  },
  {
   "cell_type": "markdown",
   "metadata": {},
   "source": [
    "### Function for finding \"the City from which the most ticket is bought\"\n",
    "###  -  This function find the Top n cities from which most of the tickets bought by customers\n",
    "###  -  This Output will indicate the  City names in which Rozsa has its largest consumerbase  "
   ]
  },
  {
   "cell_type": "code",
   "execution_count": 10,
   "metadata": {
    "collapsed": true
   },
   "outputs": [],
   "source": [
    "def top_cities_ticketbuyers(n):\n",
    "    return City_and_ticket_sorted.head(n)"
   ]
  },
  {
   "cell_type": "markdown",
   "metadata": {},
   "source": [
    "### Finding top 25 Cities which has lagest cosumer segment\n",
    "### You can find top 1,2,3...n cities by just changing the N in the function."
   ]
  },
  {
   "cell_type": "code",
   "execution_count": 11,
   "metadata": {},
   "outputs": [
    {
     "data": {
      "text/html": [
       "<div>\n",
       "<style>\n",
       "    .dataframe thead tr:only-child th {\n",
       "        text-align: right;\n",
       "    }\n",
       "\n",
       "    .dataframe thead th {\n",
       "        text-align: left;\n",
       "    }\n",
       "\n",
       "    .dataframe tbody tr th {\n",
       "        vertical-align: top;\n",
       "    }\n",
       "</style>\n",
       "<table border=\"1\" class=\"dataframe\">\n",
       "  <thead>\n",
       "    <tr style=\"text-align: right;\">\n",
       "      <th></th>\n",
       "      <th># of Tix Purchased</th>\n",
       "    </tr>\n",
       "    <tr>\n",
       "      <th>City</th>\n",
       "      <th></th>\n",
       "    </tr>\n",
       "  </thead>\n",
       "  <tbody>\n",
       "    <tr>\n",
       "      <th>Houghton</th>\n",
       "      <td>28503</td>\n",
       "    </tr>\n",
       "    <tr>\n",
       "      <th>Hancock</th>\n",
       "      <td>9031</td>\n",
       "    </tr>\n",
       "    <tr>\n",
       "      <th>Chassell</th>\n",
       "      <td>3830</td>\n",
       "    </tr>\n",
       "    <tr>\n",
       "      <th>Calumet</th>\n",
       "      <td>2589</td>\n",
       "    </tr>\n",
       "    <tr>\n",
       "      <th>South Range</th>\n",
       "      <td>1638</td>\n",
       "    </tr>\n",
       "    <tr>\n",
       "      <th>Dollar Bay</th>\n",
       "      <td>1405</td>\n",
       "    </tr>\n",
       "    <tr>\n",
       "      <th>Atlantic Mine</th>\n",
       "      <td>1255</td>\n",
       "    </tr>\n",
       "    <tr>\n",
       "      <th>Lake Linden</th>\n",
       "      <td>1212</td>\n",
       "    </tr>\n",
       "    <tr>\n",
       "      <th>Marquette</th>\n",
       "      <td>1144</td>\n",
       "    </tr>\n",
       "    <tr>\n",
       "      <th>L'Anse</th>\n",
       "      <td>1059</td>\n",
       "    </tr>\n",
       "    <tr>\n",
       "      <th>Baraga</th>\n",
       "      <td>934</td>\n",
       "    </tr>\n",
       "    <tr>\n",
       "      <th>Laurium</th>\n",
       "      <td>812</td>\n",
       "    </tr>\n",
       "    <tr>\n",
       "      <th>Pelkie</th>\n",
       "      <td>548</td>\n",
       "    </tr>\n",
       "    <tr>\n",
       "      <th>Zaucha</th>\n",
       "      <td>470</td>\n",
       "    </tr>\n",
       "    <tr>\n",
       "      <th>Ewen</th>\n",
       "      <td>349</td>\n",
       "    </tr>\n",
       "    <tr>\n",
       "      <th>Hubbell</th>\n",
       "      <td>336</td>\n",
       "    </tr>\n",
       "    <tr>\n",
       "      <th>Dodgeville</th>\n",
       "      <td>289</td>\n",
       "    </tr>\n",
       "    <tr>\n",
       "      <th>Lanse</th>\n",
       "      <td>245</td>\n",
       "    </tr>\n",
       "    <tr>\n",
       "      <th>Negaunee</th>\n",
       "      <td>240</td>\n",
       "    </tr>\n",
       "    <tr>\n",
       "      <th>Painesdale</th>\n",
       "      <td>169</td>\n",
       "    </tr>\n",
       "    <tr>\n",
       "      <th>Toivola</th>\n",
       "      <td>168</td>\n",
       "    </tr>\n",
       "    <tr>\n",
       "      <th>Mohawk</th>\n",
       "      <td>145</td>\n",
       "    </tr>\n",
       "    <tr>\n",
       "      <th>Green Bay</th>\n",
       "      <td>138</td>\n",
       "    </tr>\n",
       "    <tr>\n",
       "      <th>Ontonagon</th>\n",
       "      <td>134</td>\n",
       "    </tr>\n",
       "    <tr>\n",
       "      <th>Copper Harbor</th>\n",
       "      <td>133</td>\n",
       "    </tr>\n",
       "    <tr>\n",
       "      <th>Grand Rapids</th>\n",
       "      <td>113</td>\n",
       "    </tr>\n",
       "    <tr>\n",
       "      <th>Escanaba</th>\n",
       "      <td>111</td>\n",
       "    </tr>\n",
       "    <tr>\n",
       "      <th>Crystal Falls</th>\n",
       "      <td>109</td>\n",
       "    </tr>\n",
       "    <tr>\n",
       "      <th>Midland</th>\n",
       "      <td>107</td>\n",
       "    </tr>\n",
       "    <tr>\n",
       "      <th>Ishpeming</th>\n",
       "      <td>105</td>\n",
       "    </tr>\n",
       "    <tr>\n",
       "      <th>Hougton</th>\n",
       "      <td>97</td>\n",
       "    </tr>\n",
       "    <tr>\n",
       "      <th>Eagle Harbor</th>\n",
       "      <td>92</td>\n",
       "    </tr>\n",
       "    <tr>\n",
       "      <th>Bruce Crossing</th>\n",
       "      <td>85</td>\n",
       "    </tr>\n",
       "    <tr>\n",
       "      <th>Allouez</th>\n",
       "      <td>84</td>\n",
       "    </tr>\n",
       "    <tr>\n",
       "      <th>Traverse City</th>\n",
       "      <td>84</td>\n",
       "    </tr>\n",
       "    <tr>\n",
       "      <th>Kingsford</th>\n",
       "      <td>78</td>\n",
       "    </tr>\n",
       "    <tr>\n",
       "      <th>hancock</th>\n",
       "      <td>78</td>\n",
       "    </tr>\n",
       "    <tr>\n",
       "      <th>Gwinn</th>\n",
       "      <td>71</td>\n",
       "    </tr>\n",
       "    <tr>\n",
       "      <th>Iron Mountain</th>\n",
       "      <td>63</td>\n",
       "    </tr>\n",
       "    <tr>\n",
       "      <th>Eagle River</th>\n",
       "      <td>61</td>\n",
       "    </tr>\n",
       "    <tr>\n",
       "      <th>Appleton</th>\n",
       "      <td>60</td>\n",
       "    </tr>\n",
       "    <tr>\n",
       "      <th>Iron River</th>\n",
       "      <td>59</td>\n",
       "    </tr>\n",
       "    <tr>\n",
       "      <th>Ahmeek</th>\n",
       "      <td>54</td>\n",
       "    </tr>\n",
       "    <tr>\n",
       "      <th>Ripley</th>\n",
       "      <td>52</td>\n",
       "    </tr>\n",
       "    <tr>\n",
       "      <th>Hortonville</th>\n",
       "      <td>51</td>\n",
       "    </tr>\n",
       "    <tr>\n",
       "      <th>Plainfield</th>\n",
       "      <td>51</td>\n",
       "    </tr>\n",
       "    <tr>\n",
       "      <th>Farmington Hills</th>\n",
       "      <td>46</td>\n",
       "    </tr>\n",
       "    <tr>\n",
       "      <th>Atlantic mine</th>\n",
       "      <td>46</td>\n",
       "    </tr>\n",
       "    <tr>\n",
       "      <th>Ann Arbor</th>\n",
       "      <td>44</td>\n",
       "    </tr>\n",
       "    <tr>\n",
       "      <th>Duluth</th>\n",
       "      <td>43</td>\n",
       "    </tr>\n",
       "  </tbody>\n",
       "</table>\n",
       "</div>"
      ],
      "text/plain": [
       "                  # of Tix Purchased\n",
       "City                                \n",
       "Houghton                       28503\n",
       "Hancock                         9031\n",
       "Chassell                        3830\n",
       "Calumet                         2589\n",
       "South Range                     1638\n",
       "Dollar Bay                      1405\n",
       "Atlantic Mine                   1255\n",
       "Lake Linden                     1212\n",
       "Marquette                       1144\n",
       "L'Anse                          1059\n",
       "Baraga                           934\n",
       "Laurium                          812\n",
       "Pelkie                           548\n",
       "Zaucha                           470\n",
       "Ewen                             349\n",
       "Hubbell                          336\n",
       "Dodgeville                       289\n",
       "Lanse                            245\n",
       "Negaunee                         240\n",
       "Painesdale                       169\n",
       "Toivola                          168\n",
       "Mohawk                           145\n",
       "Green Bay                        138\n",
       "Ontonagon                        134\n",
       "Copper Harbor                    133\n",
       "Grand Rapids                     113\n",
       "Escanaba                         111\n",
       "Crystal Falls                    109\n",
       "Midland                          107\n",
       "Ishpeming                        105\n",
       "Hougton                           97\n",
       "Eagle Harbor                      92\n",
       "Bruce Crossing                    85\n",
       "Allouez                           84\n",
       "Traverse City                     84\n",
       "Kingsford                         78\n",
       "hancock                           78\n",
       "Gwinn                             71\n",
       "Iron Mountain                     63\n",
       "Eagle River                       61\n",
       "Appleton                          60\n",
       "Iron River                        59\n",
       "Ahmeek                            54\n",
       "Ripley                            52\n",
       "Hortonville                       51\n",
       "Plainfield                        51\n",
       "Farmington Hills                  46\n",
       "Atlantic mine                     46\n",
       "Ann Arbor                         44\n",
       "Duluth                            43"
      ]
     },
     "execution_count": 11,
     "metadata": {},
     "output_type": "execute_result"
    }
   ],
   "source": [
    "top_cities_ticketbuyers(50)"
   ]
  },
  {
   "cell_type": "markdown",
   "metadata": {},
   "source": [
    "### Finding the cities which has least ticket share\n",
    "### Again you can put 1,2...n number for finding n least important cities"
   ]
  },
  {
   "cell_type": "code",
   "execution_count": 12,
   "metadata": {
    "collapsed": true
   },
   "outputs": [],
   "source": [
    "def least_cities_ticketbuyers(n):\n",
    "    return City_and_ticket_sorted.tail(n)"
   ]
  },
  {
   "cell_type": "code",
   "execution_count": 13,
   "metadata": {},
   "outputs": [
    {
     "data": {
      "text/html": [
       "<div>\n",
       "<style>\n",
       "    .dataframe thead tr:only-child th {\n",
       "        text-align: right;\n",
       "    }\n",
       "\n",
       "    .dataframe thead th {\n",
       "        text-align: left;\n",
       "    }\n",
       "\n",
       "    .dataframe tbody tr th {\n",
       "        vertical-align: top;\n",
       "    }\n",
       "</style>\n",
       "<table border=\"1\" class=\"dataframe\">\n",
       "  <thead>\n",
       "    <tr style=\"text-align: right;\">\n",
       "      <th></th>\n",
       "      <th># of Tix Purchased</th>\n",
       "    </tr>\n",
       "    <tr>\n",
       "      <th>City</th>\n",
       "      <th></th>\n",
       "    </tr>\n",
       "  </thead>\n",
       "  <tbody>\n",
       "    <tr>\n",
       "      <th>STandish</th>\n",
       "      <td>1</td>\n",
       "    </tr>\n",
       "    <tr>\n",
       "      <th>Charlevoix</th>\n",
       "      <td>1</td>\n",
       "    </tr>\n",
       "    <tr>\n",
       "      <th>Chesterton</th>\n",
       "      <td>1</td>\n",
       "    </tr>\n",
       "    <tr>\n",
       "      <th>Zionsville</th>\n",
       "      <td>1</td>\n",
       "    </tr>\n",
       "    <tr>\n",
       "      <th>Chisholm</th>\n",
       "      <td>1</td>\n",
       "    </tr>\n",
       "    <tr>\n",
       "      <th>Nacogdoches</th>\n",
       "      <td>1</td>\n",
       "    </tr>\n",
       "    <tr>\n",
       "      <th>Wyoming</th>\n",
       "      <td>1</td>\n",
       "    </tr>\n",
       "    <tr>\n",
       "      <th>Clyde</th>\n",
       "      <td>1</td>\n",
       "    </tr>\n",
       "    <tr>\n",
       "      <th>Wixom</th>\n",
       "      <td>1</td>\n",
       "    </tr>\n",
       "    <tr>\n",
       "      <th>Sanford</th>\n",
       "      <td>1</td>\n",
       "    </tr>\n",
       "    <tr>\n",
       "      <th>Miami Beach</th>\n",
       "      <td>1</td>\n",
       "    </tr>\n",
       "    <tr>\n",
       "      <th>Menomonie</th>\n",
       "      <td>1</td>\n",
       "    </tr>\n",
       "    <tr>\n",
       "      <th>Des Plaines</th>\n",
       "      <td>1</td>\n",
       "    </tr>\n",
       "    <tr>\n",
       "      <th>Dover</th>\n",
       "      <td>1</td>\n",
       "    </tr>\n",
       "    <tr>\n",
       "      <th>Downingtown</th>\n",
       "      <td>1</td>\n",
       "    </tr>\n",
       "    <tr>\n",
       "      <th>Maybee</th>\n",
       "      <td>1</td>\n",
       "    </tr>\n",
       "    <tr>\n",
       "      <th>Marysville</th>\n",
       "      <td>1</td>\n",
       "    </tr>\n",
       "    <tr>\n",
       "      <th>Eden prairie</th>\n",
       "      <td>1</td>\n",
       "    </tr>\n",
       "    <tr>\n",
       "      <th>Elsie</th>\n",
       "      <td>1</td>\n",
       "    </tr>\n",
       "    <tr>\n",
       "      <th>Wayland</th>\n",
       "      <td>1</td>\n",
       "    </tr>\n",
       "    <tr>\n",
       "      <th>Madison</th>\n",
       "      <td>1</td>\n",
       "    </tr>\n",
       "    <tr>\n",
       "      <th>Essixsville</th>\n",
       "      <td>1</td>\n",
       "    </tr>\n",
       "    <tr>\n",
       "      <th>Eveleth</th>\n",
       "      <td>1</td>\n",
       "    </tr>\n",
       "    <tr>\n",
       "      <th>Fair Haven</th>\n",
       "      <td>1</td>\n",
       "    </tr>\n",
       "    <tr>\n",
       "      <th>1700 Townsend Dr.</th>\n",
       "      <td>1</td>\n",
       "    </tr>\n",
       "  </tbody>\n",
       "</table>\n",
       "</div>"
      ],
      "text/plain": [
       "                   # of Tix Purchased\n",
       "City                                 \n",
       "STandish                            1\n",
       "Charlevoix                          1\n",
       "Chesterton                          1\n",
       "Zionsville                          1\n",
       "Chisholm                            1\n",
       "Nacogdoches                         1\n",
       "Wyoming                             1\n",
       "Clyde                               1\n",
       "Wixom                               1\n",
       "Sanford                             1\n",
       "Miami Beach                         1\n",
       "Menomonie                           1\n",
       "Des Plaines                         1\n",
       "Dover                               1\n",
       "Downingtown                         1\n",
       "Maybee                              1\n",
       "Marysville                          1\n",
       "Eden prairie                        1\n",
       "Elsie                               1\n",
       "Wayland                             1\n",
       "Madison                             1\n",
       "Essixsville                         1\n",
       "Eveleth                             1\n",
       "Fair Haven                          1\n",
       "1700 Townsend Dr.                   1"
      ]
     },
     "execution_count": 13,
     "metadata": {},
     "output_type": "execute_result"
    }
   ],
   "source": [
    "least_cities_ticketbuyers(25)"
   ]
  },
  {
   "cell_type": "markdown",
   "metadata": {},
   "source": [
    "## Who's Rozsa's frequent customer?"
   ]
  },
  {
   "cell_type": "markdown",
   "metadata": {},
   "source": [
    "## Now Let's find most frequent customer\n",
    "### Grouping Data by Customers! It will group the all the rows from Frequent Customers"
   ]
  },
  {
   "cell_type": "code",
   "execution_count": 14,
   "metadata": {
    "collapsed": true
   },
   "outputs": [],
   "source": [
    "duplicate = rozsa_customer_data.copy()\n",
    "duplicate = duplicate.rename(columns={'Cust. #': 'CustID', '# of Tix Purchased': 'Frequency of Audience'})\n",
    "duplicate = duplicate.drop(['City', 'Perf. Description'],axis=1)"
   ]
  },
  {
   "cell_type": "code",
   "execution_count": 15,
   "metadata": {
    "collapsed": true
   },
   "outputs": [],
   "source": [
    "Customer_and_ticket1 = duplicate['Frequency of Audience'].groupby(duplicate['CustID']).count()\n",
    "most_frequent_coustomer = Customer_and_ticket1.sort_values(ascending=False)"
   ]
  },
  {
   "cell_type": "code",
   "execution_count": 16,
   "metadata": {
    "collapsed": true
   },
   "outputs": [],
   "source": [
    "def top_most_frequent_audience(n):\n",
    "    return most_frequent_coustomer.head(n)"
   ]
  },
  {
   "cell_type": "markdown",
   "metadata": {},
   "source": [
    "### Function to find the most frequent customers, who buys the tickets the most frequently.\n",
    "### You can see your 1..n most frequent customers ID using this function & adjusting result values."
   ]
  },
  {
   "cell_type": "code",
   "execution_count": 17,
   "metadata": {},
   "outputs": [
    {
     "data": {
      "text/plain": [
       "CustID\n",
       "23228    138\n",
       "27118    131\n",
       "1830     125\n",
       "1569     113\n",
       "23374     89\n",
       "31632     88\n",
       "29775     81\n",
       "597       66\n",
       "1679      64\n",
       "26449     60\n",
       "28816     60\n",
       "34289     57\n",
       "14299     54\n",
       "23253     54\n",
       "46069     52\n",
       "1781      51\n",
       "29772     49\n",
       "23391     48\n",
       "9708      48\n",
       "23383     47\n",
       "1729      46\n",
       "28690     43\n",
       "21204     42\n",
       "16791     41\n",
       "8062      39\n",
       "Name: Frequency of Audience, dtype: int64"
      ]
     },
     "execution_count": 17,
     "metadata": {},
     "output_type": "execute_result"
    }
   ],
   "source": [
    "top_most_frequent_audience(25)"
   ]
  },
  {
   "cell_type": "markdown",
   "metadata": {},
   "source": [
    "## Wanna Know most popular Performance?"
   ]
  },
  {
   "cell_type": "markdown",
   "metadata": {},
   "source": [
    "## Describing user base on Performance Vs ticket buying behavior\n",
    "### We can analyze that which performance is most important and popular among the user base."
   ]
  },
  {
   "cell_type": "code",
   "execution_count": 18,
   "metadata": {
    "collapsed": true
   },
   "outputs": [],
   "source": [
    "Performance_and_ticket = rozsa_customer_data.groupby('Perf. Description').sum()\n",
    "Performance_and_ticket.drop(Performance_and_ticket.columns[[0]], axis=1,inplace=True)\n",
    "Performance_and_ticket_sorted = Performance_and_ticket.sort_values('# of Tix Purchased',ascending=False)"
   ]
  },
  {
   "cell_type": "code",
   "execution_count": 19,
   "metadata": {
    "collapsed": true
   },
   "outputs": [],
   "source": [
    "def top_valuable_performance(n):\n",
    "    return Performance_and_ticket_sorted.head(n)"
   ]
  },
  {
   "cell_type": "markdown",
   "metadata": {
    "collapsed": true
   },
   "source": [
    "## Listing the most Famous performances at Rozsa! Again just mention the number and you can view the top 10 performances."
   ]
  },
  {
   "cell_type": "code",
   "execution_count": 20,
   "metadata": {},
   "outputs": [
    {
     "data": {
      "text/html": [
       "<div>\n",
       "<style>\n",
       "    .dataframe thead tr:only-child th {\n",
       "        text-align: right;\n",
       "    }\n",
       "\n",
       "    .dataframe thead th {\n",
       "        text-align: left;\n",
       "    }\n",
       "\n",
       "    .dataframe tbody tr th {\n",
       "        vertical-align: top;\n",
       "    }\n",
       "</style>\n",
       "<table border=\"1\" class=\"dataframe\">\n",
       "  <thead>\n",
       "    <tr style=\"text-align: right;\">\n",
       "      <th></th>\n",
       "      <th># of Tix Purchased</th>\n",
       "    </tr>\n",
       "    <tr>\n",
       "      <th>Perf. Description</th>\n",
       "      <th></th>\n",
       "    </tr>\n",
       "  </thead>\n",
       "  <tbody>\n",
       "    <tr>\n",
       "      <th>Class Acts - Rainforest Reptile Show</th>\n",
       "      <td>2721</td>\n",
       "    </tr>\n",
       "    <tr>\n",
       "      <th>Pirate School! The Science of Pirates</th>\n",
       "      <td>2174</td>\n",
       "    </tr>\n",
       "    <tr>\n",
       "      <th>Class Acts - Very Hungry Catepillar</th>\n",
       "      <td>1853</td>\n",
       "    </tr>\n",
       "    <tr>\n",
       "      <th>Class Acts - We're Going on a Bear Hunt</th>\n",
       "      <td>1746</td>\n",
       "    </tr>\n",
       "    <tr>\n",
       "      <th>Minnesota Ballet, with the KSO; The Nutcracker</th>\n",
       "      <td>1710</td>\n",
       "    </tr>\n",
       "    <tr>\n",
       "      <th>Copper Dog for Kids</th>\n",
       "      <td>1624</td>\n",
       "    </tr>\n",
       "    <tr>\n",
       "      <th>Swan Lake</th>\n",
       "      <td>1347</td>\n",
       "    </tr>\n",
       "    <tr>\n",
       "      <th>Class Acts: Peter Rabbit</th>\n",
       "      <td>1346</td>\n",
       "    </tr>\n",
       "    <tr>\n",
       "      <th>Fiddler on the Roof</th>\n",
       "      <td>1337</td>\n",
       "    </tr>\n",
       "    <tr>\n",
       "      <th>Celtic Nights - Journey of Hope</th>\n",
       "      <td>1329</td>\n",
       "    </tr>\n",
       "    <tr>\n",
       "      <th>Mystical Arts of Tibet - Sacred Music Sacred Dance</th>\n",
       "      <td>1220</td>\n",
       "    </tr>\n",
       "    <tr>\n",
       "      <th>West Side Story</th>\n",
       "      <td>1207</td>\n",
       "    </tr>\n",
       "    <tr>\n",
       "      <th>My Father's Dragon</th>\n",
       "      <td>1061</td>\n",
       "    </tr>\n",
       "    <tr>\n",
       "      <th>An Evening of Storytelling with Garrison Keillor</th>\n",
       "      <td>1036</td>\n",
       "    </tr>\n",
       "    <tr>\n",
       "      <th>Winter Carnival Comedian Bo Burnham</th>\n",
       "      <td>1032</td>\n",
       "    </tr>\n",
       "    <tr>\n",
       "      <th>Bob Saget</th>\n",
       "      <td>1026</td>\n",
       "    </tr>\n",
       "    <tr>\n",
       "      <th>An Evening with Eric Whitacre</th>\n",
       "      <td>951</td>\n",
       "    </tr>\n",
       "    <tr>\n",
       "      <th>Russian National Ballet Theatre's Sleeping Beauty</th>\n",
       "      <td>899</td>\n",
       "    </tr>\n",
       "    <tr>\n",
       "      <th>Alice in Wonderland Tout a Trac</th>\n",
       "      <td>866</td>\n",
       "    </tr>\n",
       "    <tr>\n",
       "      <th>Romeo &amp; Juliet, Carmen</th>\n",
       "      <td>775</td>\n",
       "    </tr>\n",
       "    <tr>\n",
       "      <th>Cirque Mechanics: Pedal Punk</th>\n",
       "      <td>766</td>\n",
       "    </tr>\n",
       "    <tr>\n",
       "      <th>Shakespeare's Twelfth Night</th>\n",
       "      <td>757</td>\n",
       "    </tr>\n",
       "    <tr>\n",
       "      <th>A Christmas Carol</th>\n",
       "      <td>727</td>\n",
       "    </tr>\n",
       "    <tr>\n",
       "      <th>An Irish Christmas</th>\n",
       "      <td>700</td>\n",
       "    </tr>\n",
       "    <tr>\n",
       "      <th>Ray Kurzweil</th>\n",
       "      <td>699</td>\n",
       "    </tr>\n",
       "    <tr>\n",
       "      <th>Winter Carnival Comedian - Judah Friedlander</th>\n",
       "      <td>660</td>\n",
       "    </tr>\n",
       "    <tr>\n",
       "      <th>MOMIX: Botanica</th>\n",
       "      <td>647</td>\n",
       "    </tr>\n",
       "    <tr>\n",
       "      <th>Calamity Jeanne</th>\n",
       "      <td>644</td>\n",
       "    </tr>\n",
       "    <tr>\n",
       "      <th>Messiah</th>\n",
       "      <td>627</td>\n",
       "    </tr>\n",
       "    <tr>\n",
       "      <th>Beautiful</th>\n",
       "      <td>627</td>\n",
       "    </tr>\n",
       "    <tr>\n",
       "      <th>China Gold</th>\n",
       "      <td>615</td>\n",
       "    </tr>\n",
       "    <tr>\n",
       "      <th>Survivor - A Conversation with a Holocaust Survivor from the Survivors Speakers Bureau of the United</th>\n",
       "      <td>609</td>\n",
       "    </tr>\n",
       "    <tr>\n",
       "      <th>Russian National Ballet Theatre's Cinderella</th>\n",
       "      <td>608</td>\n",
       "    </tr>\n",
       "    <tr>\n",
       "      <th>Giselle</th>\n",
       "      <td>601</td>\n",
       "    </tr>\n",
       "    <tr>\n",
       "      <th>The Producers</th>\n",
       "      <td>594</td>\n",
       "    </tr>\n",
       "    <tr>\n",
       "      <th>Night at the Ballet and Opera</th>\n",
       "      <td>581</td>\n",
       "    </tr>\n",
       "    <tr>\n",
       "      <th>Almost, Maine</th>\n",
       "      <td>571</td>\n",
       "    </tr>\n",
       "    <tr>\n",
       "      <th>Stealing Fire</th>\n",
       "      <td>568</td>\n",
       "    </tr>\n",
       "    <tr>\n",
       "      <th>Savion Glover: Bare Soundz</th>\n",
       "      <td>554</td>\n",
       "    </tr>\n",
       "    <tr>\n",
       "      <th>Gaby Moreno</th>\n",
       "      <td>530</td>\n",
       "    </tr>\n",
       "    <tr>\n",
       "      <th>BreakSk8</th>\n",
       "      <td>527</td>\n",
       "    </tr>\n",
       "    <tr>\n",
       "      <th>Murder on the Nile</th>\n",
       "      <td>520</td>\n",
       "    </tr>\n",
       "    <tr>\n",
       "      <th>41 North Film Festival</th>\n",
       "      <td>517</td>\n",
       "    </tr>\n",
       "    <tr>\n",
       "      <th>Picasso at the Lapin Agile</th>\n",
       "      <td>478</td>\n",
       "    </tr>\n",
       "    <tr>\n",
       "      <th>Winter Carnival Comedian - Justin Willman</th>\n",
       "      <td>464</td>\n",
       "    </tr>\n",
       "    <tr>\n",
       "      <th>Martin Ford Lecture</th>\n",
       "      <td>456</td>\n",
       "    </tr>\n",
       "    <tr>\n",
       "      <th>All is Calm</th>\n",
       "      <td>453</td>\n",
       "    </tr>\n",
       "    <tr>\n",
       "      <th>Aquila Theatre Company; Romeo &amp; Juliet</th>\n",
       "      <td>440</td>\n",
       "    </tr>\n",
       "    <tr>\n",
       "      <th>Shostakovich and Stalin: A Soviet Artist's Creative Response</th>\n",
       "      <td>426</td>\n",
       "    </tr>\n",
       "    <tr>\n",
       "      <th>Macbeth</th>\n",
       "      <td>409</td>\n",
       "    </tr>\n",
       "  </tbody>\n",
       "</table>\n",
       "</div>"
      ],
      "text/plain": [
       "                                                    # of Tix Purchased\n",
       "Perf. Description                                                     \n",
       "Class Acts - Rainforest Reptile Show                              2721\n",
       "Pirate School! The Science of Pirates                             2174\n",
       "Class Acts - Very Hungry Catepillar                               1853\n",
       "Class Acts - We're Going on a Bear Hunt                           1746\n",
       "Minnesota Ballet, with the KSO; The Nutcracker                    1710\n",
       "Copper Dog for Kids                                               1624\n",
       "Swan Lake                                                         1347\n",
       "Class Acts: Peter Rabbit                                          1346\n",
       "Fiddler on the Roof                                               1337\n",
       "Celtic Nights - Journey of Hope                                   1329\n",
       "Mystical Arts of Tibet - Sacred Music Sacred Dance                1220\n",
       "West Side Story                                                   1207\n",
       "My Father's Dragon                                                1061\n",
       "An Evening of Storytelling with Garrison Keillor                  1036\n",
       "Winter Carnival Comedian Bo Burnham                               1032\n",
       "Bob Saget                                                         1026\n",
       "An Evening with Eric Whitacre                                      951\n",
       "Russian National Ballet Theatre's Sleeping Beauty                  899\n",
       "Alice in Wonderland Tout a Trac                                    866\n",
       "Romeo & Juliet, Carmen                                             775\n",
       "Cirque Mechanics: Pedal Punk                                       766\n",
       "Shakespeare's Twelfth Night                                        757\n",
       "A Christmas Carol                                                  727\n",
       "An Irish Christmas                                                 700\n",
       "Ray Kurzweil                                                       699\n",
       "Winter Carnival Comedian - Judah Friedlander                       660\n",
       "MOMIX: Botanica                                                    647\n",
       "Calamity Jeanne                                                    644\n",
       "Messiah                                                            627\n",
       "Beautiful                                                          627\n",
       "China Gold                                                         615\n",
       "Survivor - A Conversation with a Holocaust Surv...                 609\n",
       "Russian National Ballet Theatre's Cinderella                       608\n",
       "Giselle                                                            601\n",
       "The Producers                                                      594\n",
       "Night at the Ballet and Opera                                      581\n",
       "Almost, Maine                                                      571\n",
       "Stealing Fire                                                      568\n",
       "Savion Glover: Bare Soundz                                         554\n",
       "Gaby Moreno                                                        530\n",
       "BreakSk8                                                           527\n",
       "Murder on the Nile                                                 520\n",
       "41 North Film Festival                                             517\n",
       "Picasso at the Lapin Agile                                         478\n",
       "Winter Carnival Comedian - Justin Willman                          464\n",
       "Martin Ford Lecture                                                456\n",
       "All is Calm                                                        453\n",
       "Aquila Theatre Company; Romeo & Juliet                             440\n",
       "Shostakovich and Stalin: A Soviet Artist's Crea...                 426\n",
       "Macbeth                                                            409"
      ]
     },
     "execution_count": 20,
     "metadata": {},
     "output_type": "execute_result"
    }
   ],
   "source": [
    "top_valuable_performance(50)"
   ]
  },
  {
   "cell_type": "code",
   "execution_count": 21,
   "metadata": {
    "collapsed": true
   },
   "outputs": [],
   "source": [
    "def least_valuable_performance(n):\n",
    "    return Performance_and_ticket_sorted.tail(n)"
   ]
  },
  {
   "cell_type": "markdown",
   "metadata": {},
   "source": [
    "## Identify the least popular performances at Rozsa!\n",
    "### Again you can scale this anlysis upto 1...n"
   ]
  },
  {
   "cell_type": "code",
   "execution_count": 22,
   "metadata": {},
   "outputs": [
    {
     "data": {
      "text/html": [
       "<div>\n",
       "<style>\n",
       "    .dataframe thead tr:only-child th {\n",
       "        text-align: right;\n",
       "    }\n",
       "\n",
       "    .dataframe thead th {\n",
       "        text-align: left;\n",
       "    }\n",
       "\n",
       "    .dataframe tbody tr th {\n",
       "        vertical-align: top;\n",
       "    }\n",
       "</style>\n",
       "<table border=\"1\" class=\"dataframe\">\n",
       "  <thead>\n",
       "    <tr style=\"text-align: right;\">\n",
       "      <th></th>\n",
       "      <th># of Tix Purchased</th>\n",
       "    </tr>\n",
       "    <tr>\n",
       "      <th>Perf. Description</th>\n",
       "      <th></th>\n",
       "    </tr>\n",
       "  </thead>\n",
       "  <tbody>\n",
       "    <tr>\n",
       "      <th>Songs of the Earth</th>\n",
       "      <td>117</td>\n",
       "    </tr>\n",
       "    <tr>\n",
       "      <th>Helsinki Chamber Choir: State of the Union</th>\n",
       "      <td>113</td>\n",
       "    </tr>\n",
       "    <tr>\n",
       "      <th>II:Day into Night:II</th>\n",
       "      <td>110</td>\n",
       "    </tr>\n",
       "    <tr>\n",
       "      <th>Orchid Ensemble and conScience</th>\n",
       "      <td>105</td>\n",
       "    </tr>\n",
       "    <tr>\n",
       "      <th>Antigone</th>\n",
       "      <td>98</td>\n",
       "    </tr>\n",
       "    <tr>\n",
       "      <th>Suites!</th>\n",
       "      <td>96</td>\n",
       "    </tr>\n",
       "    <tr>\n",
       "      <th>Sexual Perversity in Chicago</th>\n",
       "      <td>95</td>\n",
       "    </tr>\n",
       "    <tr>\n",
       "      <th>Mandy Gonzales</th>\n",
       "      <td>92</td>\n",
       "    </tr>\n",
       "    <tr>\n",
       "      <th>4th Keweenaw Honors String Festival</th>\n",
       "      <td>90</td>\n",
       "    </tr>\n",
       "    <tr>\n",
       "      <th>John Luther Adams</th>\n",
       "      <td>89</td>\n",
       "    </tr>\n",
       "    <tr>\n",
       "      <th>ETHEL's Documerica</th>\n",
       "      <td>83</td>\n",
       "    </tr>\n",
       "    <tr>\n",
       "      <th>Jazz Cabaret</th>\n",
       "      <td>79</td>\n",
       "    </tr>\n",
       "    <tr>\n",
       "      <th>Superior Wind Symphony: Collecting Small Things</th>\n",
       "      <td>79</td>\n",
       "    </tr>\n",
       "    <tr>\n",
       "      <th>Nice People Dancing to Good Country Music</th>\n",
       "      <td>78</td>\n",
       "    </tr>\n",
       "    <tr>\n",
       "      <th>Don Keranen</th>\n",
       "      <td>76</td>\n",
       "    </tr>\n",
       "    <tr>\n",
       "      <th>Baby with the Bathwater</th>\n",
       "      <td>76</td>\n",
       "    </tr>\n",
       "    <tr>\n",
       "      <th>Eric Whitacre Lecture</th>\n",
       "      <td>75</td>\n",
       "    </tr>\n",
       "    <tr>\n",
       "      <th>Shakespeare at the Symphony - Calumet Theater</th>\n",
       "      <td>74</td>\n",
       "    </tr>\n",
       "    <tr>\n",
       "      <th>Bon Voyage: South Africa!</th>\n",
       "      <td>70</td>\n",
       "    </tr>\n",
       "    <tr>\n",
       "      <th>Musical Offerings</th>\n",
       "      <td>68</td>\n",
       "    </tr>\n",
       "    <tr>\n",
       "      <th>A Musical Sampler</th>\n",
       "      <td>68</td>\n",
       "    </tr>\n",
       "    <tr>\n",
       "      <th>En Fuego!</th>\n",
       "      <td>67</td>\n",
       "    </tr>\n",
       "    <tr>\n",
       "      <th>Jazz Club Cabaret</th>\n",
       "      <td>67</td>\n",
       "    </tr>\n",
       "    <tr>\n",
       "      <th>Silent Sky</th>\n",
       "      <td>67</td>\n",
       "    </tr>\n",
       "    <tr>\n",
       "      <th>Music-o-rama</th>\n",
       "      <td>64</td>\n",
       "    </tr>\n",
       "    <tr>\n",
       "      <th>I Am My Own Wife</th>\n",
       "      <td>62</td>\n",
       "    </tr>\n",
       "    <tr>\n",
       "      <th>The Skivvies</th>\n",
       "      <td>59</td>\n",
       "    </tr>\n",
       "    <tr>\n",
       "      <th>SWS,Campus Concert Band: Pageantry</th>\n",
       "      <td>58</td>\n",
       "    </tr>\n",
       "    <tr>\n",
       "      <th>All Music is Folk Music</th>\n",
       "      <td>57</td>\n",
       "    </tr>\n",
       "    <tr>\n",
       "      <th>Bernie Krause</th>\n",
       "      <td>56</td>\n",
       "    </tr>\n",
       "    <tr>\n",
       "      <th>Southern Nights</th>\n",
       "      <td>55</td>\n",
       "    </tr>\n",
       "    <tr>\n",
       "      <th>Don Keranen Jazz - Memorial Jazz Show with special guest Kathy Kosins</th>\n",
       "      <td>55</td>\n",
       "    </tr>\n",
       "    <tr>\n",
       "      <th>Superior Wind Symphony: Be Here Now</th>\n",
       "      <td>53</td>\n",
       "    </tr>\n",
       "    <tr>\n",
       "      <th>Almost Golden</th>\n",
       "      <td>50</td>\n",
       "    </tr>\n",
       "    <tr>\n",
       "      <th>Flights of Fantasy</th>\n",
       "      <td>48</td>\n",
       "    </tr>\n",
       "    <tr>\n",
       "      <th>Michigan Music</th>\n",
       "      <td>43</td>\n",
       "    </tr>\n",
       "    <tr>\n",
       "      <th>Bengal Tiger at the Baghdad Zoo</th>\n",
       "      <td>42</td>\n",
       "    </tr>\n",
       "    <tr>\n",
       "      <th>2000 Years of Pep</th>\n",
       "      <td>41</td>\n",
       "    </tr>\n",
       "    <tr>\n",
       "      <th>In the Throes of Radios</th>\n",
       "      <td>41</td>\n",
       "    </tr>\n",
       "    <tr>\n",
       "      <th>A Keweenaw Stentorian Antagonisht: A Huskies Pep Band</th>\n",
       "      <td>39</td>\n",
       "    </tr>\n",
       "    <tr>\n",
       "      <th>Alternate Realities</th>\n",
       "      <td>38</td>\n",
       "    </tr>\n",
       "    <tr>\n",
       "      <th>Derek Thompson</th>\n",
       "      <td>32</td>\n",
       "    </tr>\n",
       "    <tr>\n",
       "      <th>Whither Houghton: Huskies Pep Band Live</th>\n",
       "      <td>32</td>\n",
       "    </tr>\n",
       "    <tr>\n",
       "      <th>Creators Among Us</th>\n",
       "      <td>27</td>\n",
       "    </tr>\n",
       "    <tr>\n",
       "      <th>Don Keranen Jazz</th>\n",
       "      <td>26</td>\n",
       "    </tr>\n",
       "    <tr>\n",
       "      <th>Comedy Central on Campus</th>\n",
       "      <td>8</td>\n",
       "    </tr>\n",
       "    <tr>\n",
       "      <th>Local Film MUTT with Q&amp;A</th>\n",
       "      <td>7</td>\n",
       "    </tr>\n",
       "    <tr>\n",
       "      <th>Final Five Fan Bus Ticket</th>\n",
       "      <td>7</td>\n",
       "    </tr>\n",
       "    <tr>\n",
       "      <th>Mystical Arts of Tibet - Sand Mandala Opening Ceremonies</th>\n",
       "      <td>6</td>\n",
       "    </tr>\n",
       "    <tr>\n",
       "      <th>Basketball Senior Day</th>\n",
       "      <td>2</td>\n",
       "    </tr>\n",
       "  </tbody>\n",
       "</table>\n",
       "</div>"
      ],
      "text/plain": [
       "                                                    # of Tix Purchased\n",
       "Perf. Description                                                     \n",
       "Songs of the Earth                                                 117\n",
       "Helsinki Chamber Choir: State of the Union                         113\n",
       "II:Day into Night:II                                               110\n",
       "Orchid Ensemble and conScience                                     105\n",
       "Antigone                                                            98\n",
       "Suites!                                                             96\n",
       "Sexual Perversity in Chicago                                        95\n",
       "Mandy Gonzales                                                      92\n",
       "4th Keweenaw Honors String Festival                                 90\n",
       "John Luther Adams                                                   89\n",
       "ETHEL's Documerica                                                  83\n",
       "Jazz Cabaret                                                        79\n",
       "Superior Wind Symphony: Collecting Small Things                     79\n",
       "Nice People Dancing to Good Country Music                           78\n",
       "Don Keranen                                                         76\n",
       "Baby with the Bathwater                                             76\n",
       "Eric Whitacre Lecture                                               75\n",
       "Shakespeare at the Symphony - Calumet Theater                       74\n",
       "Bon Voyage: South Africa!                                           70\n",
       "Musical Offerings                                                   68\n",
       "A Musical Sampler                                                   68\n",
       "En Fuego!                                                           67\n",
       "Jazz Club Cabaret                                                   67\n",
       "Silent Sky                                                          67\n",
       "Music-o-rama                                                        64\n",
       "I Am My Own Wife                                                    62\n",
       "The Skivvies                                                        59\n",
       "SWS,Campus Concert Band: Pageantry                                  58\n",
       "All Music is Folk Music                                             57\n",
       "Bernie Krause                                                       56\n",
       "Southern Nights                                                     55\n",
       "Don Keranen Jazz - Memorial Jazz Show with spec...                  55\n",
       "Superior Wind Symphony: Be Here Now                                 53\n",
       "Almost Golden                                                       50\n",
       "Flights of Fantasy                                                  48\n",
       "Michigan Music                                                      43\n",
       "Bengal Tiger at the Baghdad Zoo                                     42\n",
       "2000 Years of Pep                                                   41\n",
       "In the Throes of Radios                                             41\n",
       "A Keweenaw Stentorian Antagonisht: A Huskies Pe...                  39\n",
       "Alternate Realities                                                 38\n",
       "Derek Thompson                                                      32\n",
       "Whither Houghton: Huskies Pep Band Live                             32\n",
       "Creators Among Us                                                   27\n",
       "Don Keranen Jazz                                                    26\n",
       "Comedy Central on Campus                                             8\n",
       "Local Film MUTT with Q&A                                             7\n",
       "Final Five Fan Bus Ticket                                            7\n",
       "Mystical Arts of Tibet - Sand Mandala Opening C...                   6\n",
       "Basketball Senior Day                                                2"
      ]
     },
     "execution_count": 22,
     "metadata": {},
     "output_type": "execute_result"
    }
   ],
   "source": [
    "least_valuable_performance(50)"
   ]
  },
  {
   "cell_type": "markdown",
   "metadata": {},
   "source": [
    "# Exploratory Data Analysis"
   ]
  },
  {
   "cell_type": "markdown",
   "metadata": {},
   "source": [
    "## Distribution of Most Frequent Customers"
   ]
  },
  {
   "cell_type": "code",
   "execution_count": 23,
   "metadata": {},
   "outputs": [
    {
     "data": {
      "image/png": "[encoded data removed]",
      "text/plain": [
       "<matplotlib.figure.Figure at 0x10f8655f8>"
      ]
     },
     "metadata": {},
     "output_type": "display_data"
    }
   ],
   "source": [
    "plt.figure(figsize=(20, 20))\n",
    "sns.distplot(most_frequent_coustomer.values);"
   ]
  },
  {
   "cell_type": "markdown",
   "metadata": {},
   "source": [
    "### Clearly here the data points distribution is positively skewed and Right skewed. Generally here mean is greater than median \n",
    "### This situation probes serious questions to Rozsa's User's behavior,\n",
    "###  -  Users are more uncertain/ambiguous about behavior\n",
    "###  -  Some users tend to buy tickets more and more frequently.\n",
    "###  -  Some of them barely buys tickets at certain intervals.\n",
    "###  -  Data creates more mean due to high frequency of ticket buying behaviour of some users.\n",
    "### More insights can be drawn from following chart"
   ]
  },
  {
   "cell_type": "code",
   "execution_count": 24,
   "metadata": {},
   "outputs": [
    {
     "data": {
      "image/png": "[encoded data removed]",
      "text/plain": [
       "<matplotlib.figure.Figure at 0x10cdc2518>"
      ]
     },
     "metadata": {},
     "output_type": "display_data"
    }
   ],
   "source": [
    "plt.figure(figsize=(20, 20))\n",
    "sns.set_style(\"whitegrid\")\n",
    "sns.violinplot(data=most_frequent_coustomer.values)\n",
    "sns.despine(offset=10, trim=True);"
   ]
  },
  {
   "cell_type": "code",
   "execution_count": 25,
   "metadata": {},
   "outputs": [
    {
     "ename": "KeyboardInterrupt",
     "evalue": "",
     "output_type": "error",
     "traceback": [
      "\u001b[0;31m---------------------------------------------------------------------------\u001b[0m",
      "\u001b[0;31mKeyboardInterrupt\u001b[0m                         Traceback (most recent call last)",
      "\u001b[0;32m<ipython-input-25-96809b300587>\u001b[0m in \u001b[0;36m<module>\u001b[0;34m()\u001b[0m\n\u001b[1;32m     11\u001b[0m     \u001b[0mplt\u001b[0m\u001b[0;34m.\u001b[0m\u001b[0mplot\u001b[0m\u001b[0;34m(\u001b[0m\u001b[0msupport\u001b[0m\u001b[0;34m,\u001b[0m \u001b[0mkernel\u001b[0m\u001b[0;34m,\u001b[0m \u001b[0mcolor\u001b[0m\u001b[0;34m=\u001b[0m\u001b[0;34m\"r\"\u001b[0m\u001b[0;34m)\u001b[0m\u001b[0;34m\u001b[0m\u001b[0m\n\u001b[1;32m     12\u001b[0m \u001b[0;34m\u001b[0m\u001b[0m\n\u001b[0;32m---> 13\u001b[0;31m \u001b[0msns\u001b[0m\u001b[0;34m.\u001b[0m\u001b[0mrugplot\u001b[0m\u001b[0;34m(\u001b[0m\u001b[0mx\u001b[0m\u001b[0;34m,\u001b[0m \u001b[0mcolor\u001b[0m\u001b[0;34m=\u001b[0m\u001b[0;34m\".2\"\u001b[0m\u001b[0;34m,\u001b[0m \u001b[0mlinewidth\u001b[0m\u001b[0;34m=\u001b[0m\u001b[0;36m3\u001b[0m\u001b[0;34m)\u001b[0m\u001b[0;34m;\u001b[0m\u001b[0;34m\u001b[0m\u001b[0m\n\u001b[0m",
      "\u001b[0;32m~/anaconda3/lib/python3.6/site-packages/seaborn/distributions.py\u001b[0m in \u001b[0;36mrugplot\u001b[0;34m(a, height, axis, ax, **kwargs)\u001b[0m\n\u001b[1;32m    674\u001b[0m     \u001b[0mkwargs\u001b[0m\u001b[0;34m.\u001b[0m\u001b[0msetdefault\u001b[0m\u001b[0;34m(\u001b[0m\u001b[0;34m\"linewidth\"\u001b[0m\u001b[0;34m,\u001b[0m \u001b[0;36m1\u001b[0m\u001b[0;34m)\u001b[0m\u001b[0;34m\u001b[0m\u001b[0m\n\u001b[1;32m    675\u001b[0m     \u001b[0;32mfor\u001b[0m \u001b[0mpt\u001b[0m \u001b[0;32min\u001b[0m \u001b[0ma\u001b[0m\u001b[0;34m:\u001b[0m\u001b[0;34m\u001b[0m\u001b[0m\n\u001b[0;32m--> 676\u001b[0;31m         \u001b[0mfunc\u001b[0m\u001b[0;34m(\u001b[0m\u001b[0mpt\u001b[0m\u001b[0;34m,\u001b[0m \u001b[0;36m0\u001b[0m\u001b[0;34m,\u001b[0m \u001b[0mheight\u001b[0m\u001b[0;34m,\u001b[0m \u001b[0;34m**\u001b[0m\u001b[0mkwargs\u001b[0m\u001b[0;34m)\u001b[0m\u001b[0;34m\u001b[0m\u001b[0m\n\u001b[0m\u001b[1;32m    677\u001b[0m \u001b[0;34m\u001b[0m\u001b[0m\n\u001b[1;32m    678\u001b[0m     \u001b[0;32mreturn\u001b[0m \u001b[0max\u001b[0m\u001b[0;34m\u001b[0m\u001b[0m\n",
      "\u001b[0;32m~/anaconda3/lib/python3.6/site-packages/matplotlib/axes/_axes.py\u001b[0m in \u001b[0;36maxvline\u001b[0;34m(self, x, ymin, ymax, **kwargs)\u001b[0m\n\u001b[1;32m    784\u001b[0m         \u001b[0;31m# We need to strip away the units for comparison with\u001b[0m\u001b[0;34m\u001b[0m\u001b[0;34m\u001b[0m\u001b[0m\n\u001b[1;32m    785\u001b[0m         \u001b[0;31m# non-unitized bounds\u001b[0m\u001b[0;34m\u001b[0m\u001b[0;34m\u001b[0m\u001b[0m\n\u001b[0;32m--> 786\u001b[0;31m         \u001b[0mself\u001b[0m\u001b[0;34m.\u001b[0m\u001b[0m_process_unit_info\u001b[0m\u001b[0;34m(\u001b[0m\u001b[0mxdata\u001b[0m\u001b[0;34m=\u001b[0m\u001b[0mx\u001b[0m\u001b[0;34m,\u001b[0m \u001b[0mkwargs\u001b[0m\u001b[0;34m=\u001b[0m\u001b[0mkwargs\u001b[0m\u001b[0;34m)\u001b[0m\u001b[0;34m\u001b[0m\u001b[0m\n\u001b[0m\u001b[1;32m    787\u001b[0m         \u001b[0mxx\u001b[0m \u001b[0;34m=\u001b[0m \u001b[0mself\u001b[0m\u001b[0;34m.\u001b[0m\u001b[0mconvert_xunits\u001b[0m\u001b[0;34m(\u001b[0m\u001b[0mx\u001b[0m\u001b[0;34m)\u001b[0m\u001b[0;34m\u001b[0m\u001b[0m\n\u001b[1;32m    788\u001b[0m         \u001b[0mscalex\u001b[0m \u001b[0;34m=\u001b[0m \u001b[0;34m(\u001b[0m\u001b[0mxx\u001b[0m \u001b[0;34m<\u001b[0m \u001b[0mxmin\u001b[0m\u001b[0;34m)\u001b[0m \u001b[0;32mor\u001b[0m \u001b[0;34m(\u001b[0m\u001b[0mxx\u001b[0m \u001b[0;34m>\u001b[0m \u001b[0mxmax\u001b[0m\u001b[0;34m)\u001b[0m\u001b[0;34m\u001b[0m\u001b[0m\n",
      "\u001b[0;32m~/anaconda3/lib/python3.6/site-packages/matplotlib/axes/_base.py\u001b[0m in \u001b[0;36m_process_unit_info\u001b[0;34m(self, xdata, ydata, kwargs)\u001b[0m\n\u001b[1;32m   1988\u001b[0m         \u001b[0;34m\"\"\"Look for unit *kwargs* and update the axis instances as necessary\"\"\"\u001b[0m\u001b[0;34m\u001b[0m\u001b[0m\n\u001b[1;32m   1989\u001b[0m \u001b[0;34m\u001b[0m\u001b[0m\n\u001b[0;32m-> 1990\u001b[0;31m         \u001b[0;32mif\u001b[0m \u001b[0mself\u001b[0m\u001b[0;34m.\u001b[0m\u001b[0mxaxis\u001b[0m \u001b[0;32mis\u001b[0m \u001b[0;32mNone\u001b[0m \u001b[0;32mor\u001b[0m \u001b[0mself\u001b[0m\u001b[0;34m.\u001b[0m\u001b[0myaxis\u001b[0m \u001b[0;32mis\u001b[0m \u001b[0;32mNone\u001b[0m\u001b[0;34m:\u001b[0m\u001b[0;34m\u001b[0m\u001b[0m\n\u001b[0m\u001b[1;32m   1991\u001b[0m             \u001b[0;32mreturn\u001b[0m\u001b[0;34m\u001b[0m\u001b[0m\n\u001b[1;32m   1992\u001b[0m \u001b[0;34m\u001b[0m\u001b[0m\n",
      "\u001b[0;31mKeyboardInterrupt\u001b[0m: "
     ]
    },
    {
     "data": {
      "image/png": "[encoded data removed]",
      "text/plain": [
       "<matplotlib.figure.Figure at 0x1a15dee320>"
      ]
     },
     "metadata": {},
     "output_type": "display_data"
    }
   ],
   "source": [
    "from scipy import stats\n",
    "x = most_frequent_coustomer.values\n",
    "bandwidth = 1.06 * x.std() * x.size ** (-1 / 5.)\n",
    "support = np.linspace(-4, 4, 200)\n",
    "\n",
    "kernels = []\n",
    "for x_i in x:\n",
    "\n",
    "    kernel = stats.norm(x_i, bandwidth).pdf(support)\n",
    "    kernels.append(kernel)\n",
    "    plt.plot(support, kernel, color=\"r\")\n",
    "\n",
    "sns.rugplot(x, color=\".2\", linewidth=3);"
   ]
  },
  {
   "cell_type": "markdown",
   "metadata": {},
   "source": [
    "## Let's Understand User behaviour in depth."
   ]
  },
  {
   "cell_type": "markdown",
   "metadata": {},
   "source": [
    "### We've created Heat Map for understanding it graphically.\n",
    "### -  Total tickets are the intensity of colors in Heat Map.\n",
    "### -  X axis is City & Y axis is Perf. Description"
   ]
  },
  {
   "cell_type": "code",
   "execution_count": 43,
   "metadata": {},
   "outputs": [
    {
     "data": {
      "text/html": [
       "<iframe id=\"igraph\" scrolling=\"no\" style=\"border:none;\" seamless=\"seamless\" src=\"https://plot.ly/~dnisarg13/33.embed\" height=\"525px\" width=\"100%\"></iframe>"
      ],
      "text/plain": [
       "<plotly.tools.PlotlyDisplay object>"
      ]
     },
     "execution_count": 43,
     "metadata": {},
     "output_type": "execute_result"
    },
    {
     "data": {
      "text/plain": [
       "<matplotlib.figure.Figure at 0x1a3ae65b38>"
      ]
     },
     "metadata": {},
     "output_type": "display_data"
    }
   ],
   "source": [
    "plt.figure(figsize=(12, 14))\n",
    "trace = go.Heatmap(z=rozsa_customer_data['# of Tix Purchased'],\n",
    "                   x=rozsa_customer_data['City'],\n",
    "                   y=rozsa_customer_data['Perf. Description'])\n",
    "data=[trace]\n",
    "py.iplot(data, filename='labelled-heatmap1')"
   ]
  },
  {
   "cell_type": "markdown",
   "metadata": {},
   "source": [
    "## Results shows that, \n",
    "##  -  Heat Map is more dense in starting\n",
    "##  -  After going far on X axis points are scattered at certain distance & this distance increases exponentially.\n",
    "##  -  This is interactive chart & you alse can Zoom In for finding more instances clearly.\n",
    "##  -  You can locate x,y,z values by hovering mouse on perticular point and so each and every record is being mapped into heat map."
   ]
  },
  {
   "cell_type": "markdown",
   "metadata": {},
   "source": [
    "## Graph for City Vs Total Sales of Ticket"
   ]
  },
  {
   "cell_type": "code",
   "execution_count": 27,
   "metadata": {},
   "outputs": [
    {
     "data": {
      "image/png": "[encoded data removed]",
      "text/plain": [
       "<matplotlib.figure.Figure at 0x1a340e6c50>"
      ]
     },
     "metadata": {},
     "output_type": "display_data"
    }
   ],
   "source": [
    "cities_graph = pd.read_excel('city.xlsx')\n",
    "g = sns.FacetGrid(cities_graph, col=\"City\", size=10, aspect=.5)\n",
    "g.map(sns.barplot, \"City\", \"# of Tix Purchased\");"
   ]
  },
  {
   "cell_type": "markdown",
   "metadata": {},
   "source": [
    "## Graph for the Performance VS ticket sales"
   ]
  },
  {
   "cell_type": "code",
   "execution_count": 28,
   "metadata": {
    "scrolled": true
   },
   "outputs": [
    {
     "data": {
      "image/png": "[encoded data removed]",
      "text/plain": [
       "<matplotlib.figure.Figure at 0x1a31334550>"
      ]
     },
     "metadata": {},
     "output_type": "display_data"
    }
   ],
   "source": [
    "performance_graph = pd.read_excel('performance.xlsx')\n",
    "g1 = sns.FacetGrid(performance_graph, col=\"Perf. Description\", size=10, aspect=.5)\n",
    "g1.map(sns.barplot, \"Perf. Description\", \"# of Tix Purchased\");"
   ]
  },
  {
   "cell_type": "markdown",
   "metadata": {},
   "source": [
    "# Predictive Modelling\n",
    "##  -  In this section I've created one AI Technology. The statistical model which predicts the liking of users.\n",
    "##  -  We've used City, Cust ID & Perf. Description features for predicting whether the customer will buy the ticket or not! "
   ]
  },
  {
   "cell_type": "code",
   "execution_count": 29,
   "metadata": {},
   "outputs": [
    {
     "name": "stderr",
     "output_type": "stream",
     "text": [
      "/Users/ambrose/anaconda3/lib/python3.6/site-packages/sklearn/cross_validation.py:41: DeprecationWarning:\n",
      "\n",
      "This module was deprecated in version 0.18 in favor of the model_selection module into which all the refactored classes and functions are moved. Also note that the interface of the new CV iterators are different from that of this module. This module will be removed in 0.20.\n",
      "\n",
      "/Users/ambrose/anaconda3/lib/python3.6/site-packages/sklearn/grid_search.py:42: DeprecationWarning:\n",
      "\n",
      "This module was deprecated in version 0.18 in favor of the model_selection module into which all the refactored classes and functions are moved. This module will be removed in 0.20.\n",
      "\n"
     ]
    }
   ],
   "source": [
    "from sklearn.grid_search import GridSearchCV\n",
    "from sklearn.cross_validation import train_test_split\n",
    "from sklearn.metrics import confusion_matrix\n",
    "from sklearn.ensemble import RandomForestRegressor\n",
    "from sklearn.pipeline import Pipeline\n",
    "from sklearn.cross_validation import cross_val_score\n",
    "from sklearn.metrics import mean_squared_error\n",
    "import random"
   ]
  },
  {
   "cell_type": "markdown",
   "metadata": {},
   "source": [
    "## Code for optimizing our mathematical model for better accuracy"
   ]
  },
  {
   "cell_type": "code",
   "execution_count": 30,
   "metadata": {
    "collapsed": true
   },
   "outputs": [],
   "source": [
    "#optimizing our model\n",
    "def cv_optimize(clf, parameters, X, y, n_jobs=1, n_folds=5, score_func=None, verbose=0):\n",
    "    if score_func:\n",
    "        gs = GridSearchCV(clf, param_grid=parameters, cv=n_folds, n_jobs=n_jobs, scoring=score_func, verbose=verbose)\n",
    "    else:\n",
    "        gs = GridSearchCV(clf, param_grid=parameters, n_jobs=n_jobs, cv=n_folds, verbose=verbose)\n",
    "    gs.fit(X, y)\n",
    "    print(\"BEST\", gs.best_params_, gs.best_score_, gs.grid_scores_, gs.scorer_)\n",
    "    print(\"Best score: \", gs.best_score_)\n",
    "    best = gs.best_estimator_\n",
    "    return best"
   ]
  },
  {
   "cell_type": "markdown",
   "metadata": {},
   "source": [
    "## Training & testing of our Machine learning model"
   ]
  },
  {
   "cell_type": "code",
   "execution_count": 31,
   "metadata": {},
   "outputs": [
    {
     "data": {
      "text/plain": [
       "array([False, False,  True,  True,  True,  True,  True,  True,  True, False], dtype=bool)"
      ]
     },
     "execution_count": 31,
     "metadata": {},
     "output_type": "execute_result"
    }
   ],
   "source": [
    "data = rozsa_customer_data.copy()\n",
    "#getting train & test set\n",
    "train_set, test_set = train_test_split(range(data.shape[0]), train_size=0.8)\n",
    "mask=np.ones(data.shape[0], dtype='int')\n",
    "mask[train_set]=1\n",
    "mask[test_set]=0\n",
    "mask = (mask==1)\n",
    "mask[:10]"
   ]
  },
  {
   "cell_type": "markdown",
   "metadata": {},
   "source": [
    "## Predictor features,\n",
    "### We're using Cust #, City, Pef. Description to predict whether customer will buy next show ticket or not?"
   ]
  },
  {
   "cell_type": "code",
   "execution_count": 32,
   "metadata": {
    "collapsed": true
   },
   "outputs": [],
   "source": [
    "# Split off the features\n",
    "Xnames = ['Cust. #','City','Perf. Description']\n",
    "#'VendorID', 'Store_and_fwd_flag','RateCodeID','Passenger_count','Trip_distance', 'Fare_amount', 'Extra', 'MTA_tax','Tolls_amount', 'improvement_surcharge','Payment_type', 'Trip_type ', 'Week', 'Week_day', 'Month_day', 'Hour', 'Shift_type','Trip_duration', 'Direction_NS', 'Direction_EW', 'Speed_mph','upper_manhattan', 'Pickup_hour','With_tip' ,'Total_amount','Tip_percentage','Tip_amount'\n",
    "#Xnames = ['Total_amount','Tip_amount']\n",
    "X = data[Xnames]\n",
    "y = np.log10(data['# of Tix Purchased']+1)"
   ]
  },
  {
   "cell_type": "markdown",
   "metadata": {},
   "source": [
    "## Splitting off original dataset as in train and test dataset for performing training & testing of our model"
   ]
  },
  {
   "cell_type": "code",
   "execution_count": 33,
   "metadata": {},
   "outputs": [
    {
     "name": "stdout",
     "output_type": "stream",
     "text": [
      "(16575, 3)\n",
      "(16575, 3)\n"
     ]
    }
   ],
   "source": [
    "Xtrain, Xtest, ytrain, ytest = X[mask], X[~mask], y[mask], y[~mask]\n",
    "n_samples = Xtrain.shape[0]\n",
    "n_features = Xtrain.shape[1]\n",
    "print(Xtrain.shape)\n",
    "max_samples = 1000000\n",
    "if Xtrain.shape[0] > max_samples:\n",
    "    rows = random.sample(list(Xtrain.index),max_samples)\n",
    "    Xtrain = Xtrain.ix[rows]\n",
    "    ytrain = ytrain.ix[rows]\n",
    "    \n",
    "print (Xtrain.shape)"
   ]
  },
  {
   "cell_type": "markdown",
   "metadata": {},
   "source": [
    "### Estimating feature Vectors"
   ]
  },
  {
   "cell_type": "code",
   "execution_count": 34,
   "metadata": {
    "collapsed": true
   },
   "outputs": [],
   "source": [
    "estimator = RandomForestRegressor(n_estimators=20, n_jobs=-1)"
   ]
  },
  {
   "cell_type": "code",
   "execution_count": 35,
   "metadata": {
    "collapsed": true
   },
   "outputs": [],
   "source": [
    "#defining the parameters\n",
    "Xtrain = Xtrain.apply(pd.to_numeric, errors='coerce')\n",
    "ytrain = ytrain.apply(pd.to_numeric, errors='coerce')\n",
    "Xtrain = Xtrain.as_matrix().astype(np.float64)\n",
    "ytrain = ytrain.as_matrix().astype(np.float64)\n",
    "Xtrain[np.isnan(Xtrain)]=0\n",
    "ytrain[np.isnan(ytrain)]=0"
   ]
  },
  {
   "cell_type": "code",
   "execution_count": 36,
   "metadata": {},
   "outputs": [
    {
     "name": "stdout",
     "output_type": "stream",
     "text": [
      "Fitting 5 folds for each of 1 candidates, totalling 5 fits\n",
      "[CV] max_depth=50, max_features=auto, n_estimators=50 ................\n"
     ]
    },
    {
     "name": "stderr",
     "output_type": "stream",
     "text": [
      "/Users/ambrose/anaconda3/lib/python3.6/site-packages/sklearn/metrics/scorer.py:100: DeprecationWarning:\n",
      "\n",
      "Scoring method mean_squared_error was renamed to neg_mean_squared_error in version 0.18 and will be removed in 0.20.\n",
      "\n",
      "[Parallel(n_jobs=1)]: Done   1 out of   1 | elapsed:    0.9s remaining:    0.0s\n"
     ]
    },
    {
     "name": "stdout",
     "output_type": "stream",
     "text": [
      "[CV]  max_depth=50, max_features=auto, n_estimators=50, score=-0.042327 -   0.9s\n",
      "[CV] max_depth=50, max_features=auto, n_estimators=50 ................\n"
     ]
    },
    {
     "name": "stderr",
     "output_type": "stream",
     "text": [
      "/Users/ambrose/anaconda3/lib/python3.6/site-packages/sklearn/metrics/scorer.py:100: DeprecationWarning:\n",
      "\n",
      "Scoring method mean_squared_error was renamed to neg_mean_squared_error in version 0.18 and will be removed in 0.20.\n",
      "\n",
      "[Parallel(n_jobs=1)]: Done   2 out of   2 | elapsed:    1.9s remaining:    0.0s\n"
     ]
    },
    {
     "name": "stdout",
     "output_type": "stream",
     "text": [
      "[CV]  max_depth=50, max_features=auto, n_estimators=50, score=-0.057755 -   1.0s\n",
      "[CV] max_depth=50, max_features=auto, n_estimators=50 ................\n"
     ]
    },
    {
     "name": "stderr",
     "output_type": "stream",
     "text": [
      "/Users/ambrose/anaconda3/lib/python3.6/site-packages/sklearn/metrics/scorer.py:100: DeprecationWarning:\n",
      "\n",
      "Scoring method mean_squared_error was renamed to neg_mean_squared_error in version 0.18 and will be removed in 0.20.\n",
      "\n"
     ]
    },
    {
     "name": "stdout",
     "output_type": "stream",
     "text": [
      "[CV]  max_depth=50, max_features=auto, n_estimators=50, score=-0.030788 -   0.8s\n",
      "[CV] max_depth=50, max_features=auto, n_estimators=50 ................\n"
     ]
    },
    {
     "name": "stderr",
     "output_type": "stream",
     "text": [
      "/Users/ambrose/anaconda3/lib/python3.6/site-packages/sklearn/metrics/scorer.py:100: DeprecationWarning:\n",
      "\n",
      "Scoring method mean_squared_error was renamed to neg_mean_squared_error in version 0.18 and will be removed in 0.20.\n",
      "\n"
     ]
    },
    {
     "name": "stdout",
     "output_type": "stream",
     "text": [
      "[CV]  max_depth=50, max_features=auto, n_estimators=50, score=-0.035832 -   0.8s\n",
      "[CV] max_depth=50, max_features=auto, n_estimators=50 ................\n"
     ]
    },
    {
     "name": "stderr",
     "output_type": "stream",
     "text": [
      "/Users/ambrose/anaconda3/lib/python3.6/site-packages/sklearn/metrics/scorer.py:100: DeprecationWarning:\n",
      "\n",
      "Scoring method mean_squared_error was renamed to neg_mean_squared_error in version 0.18 and will be removed in 0.20.\n",
      "\n",
      "[Parallel(n_jobs=1)]: Done   5 out of   5 | elapsed:    4.3s finished\n"
     ]
    },
    {
     "name": "stdout",
     "output_type": "stream",
     "text": [
      "[CV]  max_depth=50, max_features=auto, n_estimators=50, score=-0.037162 -   0.8s\n",
      "BEST {'max_depth': 50, 'max_features': 'auto', 'n_estimators': 50} -0.04077302158538728 [mean: -0.04077, std: 0.00925, params: {'max_depth': 50, 'max_features': 'auto', 'n_estimators': 50}] make_scorer(mean_squared_error, greater_is_better=False)\n",
      "Best score:  -0.04077302158538728\n"
     ]
    }
   ],
   "source": [
    "parameters = {\"n_estimators\": [50],\n",
    "              \"max_features\": [\"auto\"],\n",
    "              \"max_depth\": [50]}\n",
    "best = cv_optimize(estimator, parameters, Xtrain, ytrain, n_folds=5, score_func='mean_squared_error', verbose=3)"
   ]
  },
  {
   "cell_type": "code",
   "execution_count": 37,
   "metadata": {
    "collapsed": true
   },
   "outputs": [],
   "source": [
    "Xtest = Xtest.apply(pd.to_numeric, errors='coerce')\n",
    "ytest = ytest.apply(pd.to_numeric, errors='coerce')\n",
    "Xtest = Xtest.as_matrix().astype(np.float64)\n",
    "ytest = ytest.as_matrix().astype(np.float64)\n",
    "Xtest[np.isnan(Xtest)]=0\n",
    "ytest[np.isnan(ytest)]=0"
   ]
  },
  {
   "cell_type": "code",
   "execution_count": 38,
   "metadata": {},
   "outputs": [
    {
     "name": "stdout",
     "output_type": "stream",
     "text": [
      "############# based on standard predict ################\n",
      "R^2 on training data: 0.7538\n",
      "R^2 on test data:     0.3105\n"
     ]
    }
   ],
   "source": [
    "reg=best.fit(Xtrain, ytrain)\n",
    "training_accuracy = reg.score(Xtrain, ytrain)\n",
    "test_accuracy = reg.score(Xtest, ytest)\n",
    "print (\"############# based on standard predict ################\")\n",
    "print (\"R^2 on training data: %0.4f\" % (training_accuracy))\n",
    "print (\"R^2 on test data:     %0.4f\" % (test_accuracy))"
   ]
  },
  {
   "cell_type": "markdown",
   "metadata": {},
   "source": [
    "### Finding Prediction error.\n",
    "### From Observation, The error of our model is less and so it's presentable model"
   ]
  },
  {
   "cell_type": "code",
   "execution_count": 39,
   "metadata": {},
   "outputs": [
    {
     "name": "stdout",
     "output_type": "stream",
     "text": [
      "RMSE = 0.186 (this is in log-space!)\n",
      "So two thirds of the records would be a factor of less than 1.53 away from the real value.\n"
     ]
    }
   ],
   "source": [
    "rmse = np.sqrt(mean_squared_error(reg.predict(Xtest),ytest))\n",
    "print (\"RMSE = %0.3f (this is in log-space!)\" % rmse)\n",
    "print (\"So two thirds of the records would be a factor of less than %0.2f away from the real value.\" % np.power(10,rmse))"
   ]
  },
  {
   "cell_type": "markdown",
   "metadata": {},
   "source": [
    "### Predicting from the new test set for final validation for our Predictive Model"
   ]
  },
  {
   "cell_type": "code",
   "execution_count": 40,
   "metadata": {
    "collapsed": true
   },
   "outputs": [],
   "source": [
    "test = pd.read_csv('test.csv')\n",
    "test = test.apply(pd.to_numeric, errors='coerce')\n",
    "test = test.as_matrix().astype(np.float64)\n",
    "test[np.isnan(test)]=0\n",
    "result = np.power(10,reg.predict(test))\n",
    "buys = []\n",
    "def whether_buys(result):\n",
    "    for i in range(len(result)):\n",
    "        buys.append(result.mean() - 0.2 < result[i] < result.mean() + 0.2)\n",
    "    return buys\n",
    "prediction_array = whether_buys(result)"
   ]
  },
  {
   "cell_type": "markdown",
   "metadata": {},
   "source": [
    "## Placing our Predictions into Presentable way"
   ]
  },
  {
   "cell_type": "code",
   "execution_count": 41,
   "metadata": {},
   "outputs": [
    {
     "data": {
      "text/html": [
       "<div>\n",
       "<style>\n",
       "    .dataframe thead tr:only-child th {\n",
       "        text-align: right;\n",
       "    }\n",
       "\n",
       "    .dataframe thead th {\n",
       "        text-align: left;\n",
       "    }\n",
       "\n",
       "    .dataframe tbody tr th {\n",
       "        vertical-align: top;\n",
       "    }\n",
       "</style>\n",
       "<table border=\"1\" class=\"dataframe\">\n",
       "  <thead>\n",
       "    <tr style=\"text-align: right;\">\n",
       "      <th></th>\n",
       "      <th>Cust. #</th>\n",
       "      <th>City</th>\n",
       "      <th>Perf. Description</th>\n",
       "      <th>Will Buy?</th>\n",
       "    </tr>\n",
       "  </thead>\n",
       "  <tbody>\n",
       "    <tr>\n",
       "      <th>0</th>\n",
       "      <td>597</td>\n",
       "      <td>Chassell</td>\n",
       "      <td>1863-2013: Lincoln and Gettysburg</td>\n",
       "      <td>True</td>\n",
       "    </tr>\n",
       "    <tr>\n",
       "      <th>1</th>\n",
       "      <td>1569</td>\n",
       "      <td>Houghton</td>\n",
       "      <td>1863-2013: Lincoln and Gettysburg</td>\n",
       "      <td>True</td>\n",
       "    </tr>\n",
       "    <tr>\n",
       "      <th>2</th>\n",
       "      <td>1576</td>\n",
       "      <td>Hancock</td>\n",
       "      <td>1863-2013: Lincoln and Gettysburg</td>\n",
       "      <td>True</td>\n",
       "    </tr>\n",
       "    <tr>\n",
       "      <th>3</th>\n",
       "      <td>1679</td>\n",
       "      <td>Houghton</td>\n",
       "      <td>1863-2013: Lincoln and Gettysburg</td>\n",
       "      <td>True</td>\n",
       "    </tr>\n",
       "    <tr>\n",
       "      <th>4</th>\n",
       "      <td>1729</td>\n",
       "      <td>Hancock</td>\n",
       "      <td>1863-2013: Lincoln and Gettysburg</td>\n",
       "      <td>True</td>\n",
       "    </tr>\n",
       "  </tbody>\n",
       "</table>\n",
       "</div>"
      ],
      "text/plain": [
       "   Cust. #      City                  Perf. Description  Will Buy?\n",
       "0      597  Chassell  1863-2013: Lincoln and Gettysburg       True\n",
       "1     1569  Houghton  1863-2013: Lincoln and Gettysburg       True\n",
       "2     1576   Hancock  1863-2013: Lincoln and Gettysburg       True\n",
       "3     1679  Houghton  1863-2013: Lincoln and Gettysburg       True\n",
       "4     1729   Hancock  1863-2013: Lincoln and Gettysburg       True"
      ]
     },
     "execution_count": 41,
     "metadata": {},
     "output_type": "execute_result"
    }
   ],
   "source": [
    "prediction_result = pd.read_csv('test.csv')\n",
    "prediction_result['Will Buy?'] = pd.DataFrame(prediction_array)\n",
    "prediction_result.head()"
   ]
  },
  {
   "cell_type": "markdown",
   "metadata": {},
   "source": [
    "# Conclusion:\n",
    "## This Report contains all data science project lifecycle from Data munging to making predictions.\n",
    "### We've used all of them and made one Predictive Model as a final outcome,\n",
    "###    - We've made recommendations for Rozsa by predicting outcomes.\n",
    "###    - We've done Exploratory Data analysis for ease of judging data.\n",
    "###    - We've used advanced visualisation for understanding user behaviours in a better way.\n",
    "###    - We've used comments, markdowns & even long descriptions for making this report more interpretable.\n",
    "###    - Any kind of suggestions, recommendations & personal comments are higly appreciated.\n",
    "\n",
    "#  Thank you!"
   ]
  },
  {
   "cell_type": "code",
   "execution_count": null,
   "metadata": {
    "collapsed": true
   },
   "outputs": [],
   "source": []
  },
  {
   "cell_type": "code",
   "execution_count": null,
   "metadata": {
    "collapsed": true
   },
   "outputs": [],
   "source": []
  }
 ],
 "metadata": {
  "kernelspec": {
   "display_name": "Python 3",
   "language": "python",
   "name": "python3"
  },
  "language_info": {
   "codemirror_mode": {
    "name": "ipython",
    "version": 3
   },
   "file_extension": ".py",
   "mimetype": "text/x-python",
   "name": "python",
   "nbconvert_exporter": "python",
   "pygments_lexer": "ipython3",
   "version": "3.6.2"
  }
 },
 "nbformat": 4,
 "nbformat_minor": 2
}
